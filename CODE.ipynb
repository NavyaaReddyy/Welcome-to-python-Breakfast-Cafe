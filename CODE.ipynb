{
  "nbformat": 4,
  "nbformat_minor": 0,
  "metadata": {
    "colab": {
      "provenance": []
    },
    "kernelspec": {
      "name": "python3",
      "display_name": "Python 3"
    },
    "language_info": {
      "name": "python"
    }
  },
  "cells": [
    {
      "cell_type": "code",
      "execution_count": null,
      "metadata": {
        "id": "JOzwwM837t6l"
      },
      "outputs": [],
      "source": [
        "menu = {\n",
        "    \"1\": {\"item\": \"Egg and Toast\", \"price\": 4.99},\n",
        "    \"2\": {\"item\": \"Pancakes\", \"price\": 6.49},\n",
        "    \"3\": {\"item\": \"Oatmeal\", \"price\": 3.99},\n",
        "    \"4\": {\"item\": \"Fruit Bowl\", \"price\": 5.99}\n",
        "}\n",
        "\n",
        "def display_menu():\n",
        "    print(\"Welcome to the Breakfast Menu:\")\n",
        "    print(\"------------------------------------\")\n",
        "    print(\"MENU:\")\n",
        "    for key, item in menu.items():\n",
        "        print(f\"{key}. {item['item']}: ${item['price']:.2f}\")\n",
        "    print(\"------------------------------------\")\n",
        "\n",
        "def place_order():\n",
        "    order = []\n",
        "    total_cost = 0.0\n",
        "\n",
        "    while True:\n",
        "        display_menu()\n",
        "        choice = input(\"Enter the number of the item you want to order (press 'q' to quit): \")\n",
        "\n",
        "        if choice.lower() == 'q':\n",
        "            break\n",
        "\n",
        "        if choice in menu:\n",
        "            selected_item = menu[choice]\n",
        "            order.append(selected_item)\n",
        "            total_cost += selected_item['price']\n",
        "            print(f\"Added '{selected_item['item']}' to your order.\")\n",
        "\n",
        "        else:\n",
        "            print(\"Invalid choice. Please try again.\")\n",
        "\n",
        "    print(\"------------------------------------\")\n",
        "    print(\"ORDER SUMMARY:\")\n",
        "    for item in order:\n",
        "        print(f\"{item['item']}: ${item['price']:.2f}\")\n",
        "    print(\"------------------------------------\")\n",
        "    print(f\"Total cost: ${total_cost:.2f}\")\n",
        "\n",
        "def main():\n",
        "    print(\"Welcome to the Breakfast Ordering System!\")\n",
        "    print(\"------------------------------------\")\n",
        "    place_order()\n",
        "\n",
        "if __name__ == \"__main__\":\n",
        "    main()"
      ]
    }
  ]
}